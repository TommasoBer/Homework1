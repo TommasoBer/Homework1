{
 "cells": [
  {
   "cell_type": "code",
   "execution_count": null,
   "metadata": {},
   "outputs": [],
   "source": [
    "# Detect Floating Point Number\n",
    "\n",
    "test = int(input())\n",
    "for i in range (0, test):\n",
    "    try:\n",
    "        stringa = float(input())\n",
    "        if stringa == 0 :\n",
    "            print (\"False\")\n",
    "            break\n",
    "        e = '{:.2f}'.format(round(stringa, 2))\n",
    "        if e == int(stringa):\n",
    "            print(\"False\")\n",
    "        elif isinstance(stringa, float):\n",
    "            print (\"True\")\n",
    "    \n",
    "    except ValueError :\n",
    "        print(\"False\")"
   ]
  },
  {
   "cell_type": "code",
   "execution_count": null,
   "metadata": {},
   "outputs": [],
   "source": [
    "# Re.split()\n",
    "\n",
    "regex_pattern =  r\"[,.]\" \t# Do not delete 'r'.\n",
    "\n",
    "import re\n",
    "print(\"\\n\".join(re.split(regex_pattern, input())))"
   ]
  },
  {
   "cell_type": "code",
   "execution_count": null,
   "metadata": {},
   "outputs": [],
   "source": [
    "#Group(), Groups() & Groupdict()\n",
    "\n",
    "import re\n",
    "s = input()\n",
    "m= (re.search(r'([a-zA-Z0-9])\\1+', s)) #\\1+ indica di cercare il numero  ripetizioni(+) del gruppo(1)---cioè--> [a-zA-Z0-9])\n",
    "if m:\n",
    "    print(m.group(1))\n",
    "else:\n",
    "    print(\"-1\")"
   ]
  },
  {
   "cell_type": "code",
   "execution_count": null,
   "metadata": {},
   "outputs": [],
   "source": [
    "# Re.start() & Re.end()\n",
    "\n",
    "\n",
    "import re\n",
    "stringa = input()\n",
    "k = input()\n",
    "\n",
    "matches =list( re.findall(r'(?={})'.format(k), stringa))\n",
    "if len(matches) == 0 :\n",
    "    print('(-1, -1)')\n",
    "else:    \n",
    "     matches2 = re.finditer(r'(?={})'.format(k), stringa)\n",
    "     for match in matches2:\n",
    "            s = match.start()\n",
    "            e = match.start() + len(k) - 1\n",
    "            #print(e)\n",
    "            tup = (s,e)\n",
    "            print(tup)"
   ]
  },
  {
   "cell_type": "code",
   "execution_count": null,
   "metadata": {},
   "outputs": [],
   "source": [
    "#Regex Substitution\n",
    "\n",
    "import re\n",
    "numero_righe = int(input())\n",
    "for i in range(0,numero_righe):\n",
    "    line = input()\n",
    "    x = (re.sub(r'(?<= )(&&)(?= )',\"and\",line))\n",
    "    res = (re.sub(r'(?<= )(\\|\\|)(?= )',\"or\",x))\n",
    "    print(res)"
   ]
  },
  {
   "cell_type": "code",
   "execution_count": null,
   "metadata": {},
   "outputs": [],
   "source": [
    "# Validating Roman Numerals\n",
    "\n",
    "\n",
    "\n",
    "regex_pattern = r\"^M{0,3}(CM|CD|D?C{0,3})(XC|XL|L?X{0,3})(IX|IV|V?I{0,3})$\"\n",
    "\n",
    "import re\n",
    "print(str(bool(re.match(regex_pattern, input()))))"
   ]
  },
  {
   "cell_type": "code",
   "execution_count": null,
   "metadata": {},
   "outputs": [],
   "source": [
    "#Validating phone numbers\n",
    "\n",
    "import re\n",
    "n_numbers = int(input())\n",
    "for i in range(0,n_numbers):\n",
    "    match = re.search(r\"^[789]\\d{8}\\d$\", input())\n",
    "    if match:\n",
    "        print(\"YES\")\n",
    "    else:\n",
    "        print(\"NO\")"
   ]
  },
  {
   "cell_type": "code",
   "execution_count": null,
   "metadata": {},
   "outputs": [],
   "source": [
    "# Validating and Parsing Email Addresses\n",
    "\n",
    "import re\n",
    "import email.utils\n",
    "n_mail = int(input())\n",
    "for i in range(0, n_mail):\n",
    "    name , mail = map(str , input().split())\n",
    "    match = re.search(r'<[A-Za-z](\\w|-|\\.|_)+@[A-Za-z]+\\.[A-Za-z]{1,3}>', mail)\n",
    "    if match :\n",
    "        #print(match.groups())\n",
    "        print(name + \" \" + mail)\n",
    "        #print (email.utils.formataddr((name , match.group())))"
   ]
  },
  {
   "cell_type": "code",
   "execution_count": null,
   "metadata": {},
   "outputs": [],
   "source": [
    "# Hex Color Code\n",
    "\n",
    "import re \n",
    "n_lines = int(input())\n",
    "for i in range(0, n_lines):\n",
    "    stringa = input()\n",
    "   \n",
    "    matches = re.findall(r'([\\s,\\:])(#[a-fA-F0-9]{3,6})', stringa )\n",
    "    for match in matches:\n",
    "            print(match[1])"
   ]
  },
  {
   "cell_type": "code",
   "execution_count": null,
   "metadata": {},
   "outputs": [],
   "source": [
    "# HTML Parser - Part 1\n",
    "\n",
    "from html.parser import HTMLParser\n",
    "\n",
    "class MyHTMLParser(HTMLParser):\n",
    "    def handle_starttag(self, tag, attrs):\n",
    "        print (\"Start :\", tag)\n",
    "        for ele in attrs:\n",
    "            print ('->',ele[0],'>',ele[1])\n",
    "\n",
    "    def handle_endtag(self, tag):\n",
    "        print (\"End   :\", tag)\n",
    "    def handle_startendtag(self, tag, attrs):\n",
    "        print (\"Empty :\", tag)\n",
    "        for ele in attrs:\n",
    "            print ('->',ele[0],'>',ele[1])\n",
    "  \n",
    "\n",
    "parser = MyHTMLParser()\n",
    "parser.feed(''.join([input().strip() for _ in range(int(input()))]))"
   ]
  },
  {
   "cell_type": "code",
   "execution_count": null,
   "metadata": {},
   "outputs": [],
   "source": [
    "# HTML Parser - Part 2\n",
    "\n",
    "from html.parser import HTMLParser\n",
    "\n",
    "class MyHTMLParser(HTMLParser):\n",
    "      def handle_comment(self, data):\n",
    "        n_lines = len(data.split('\\n'))\n",
    "        if n_lines == 1:\n",
    "            print('>>> Single-line Comment')\n",
    "        else:\n",
    "            print('>>> Multi-line Comment')\n",
    "        #print (\"Comment  :\", data)\n",
    "        if data.strip():\n",
    "            print(data)\n",
    "      def handle_data(self, data):\n",
    "        if data.strip():\n",
    "            print('>>> Data')\n",
    "            print(data)\n",
    "   \n",
    "html = \"\"       \n",
    "for i in range(int(input())):\n",
    "    html += input().rstrip()\n",
    "    html += '\\n'\n",
    "    \n",
    "parser = MyHTMLParser()\n",
    "parser.feed(html)\n",
    "parser.close()"
   ]
  },
  {
   "cell_type": "code",
   "execution_count": null,
   "metadata": {},
   "outputs": [],
   "source": [
    "# Detect HTML Tags, Attributes and Attribute Values\n",
    "\n",
    "from html.parser import HTMLParser\n",
    "\n",
    "class MyHTMLParser(HTMLParser):\n",
    "    def handle_starttag(self, tag, attrs):\n",
    "        print (tag)\n",
    "        for ele in attrs:\n",
    "            print ('->',ele[0],'>',ele[1])\n",
    "\n",
    "\n",
    "parser = MyHTMLParser()\n",
    "parser.feed(''.join([input().strip() for _ in range(int(input()))]))\n"
   ]
  },
  {
   "cell_type": "code",
   "execution_count": null,
   "metadata": {},
   "outputs": [],
   "source": [
    "# Validating Credit Card Numbers\n",
    "\n",
    "\n",
    "\n",
    "import re\n",
    "n = int(input())\n",
    "for i in range(0 , n) :\n",
    "    card = input()\n",
    "    match = re.search(r'(?!.*(\\d)(-?\\1){3})^[456]\\d{3}-?\\d{4}-?\\d{4}-?\\d{4}$', card)\n",
    "\n",
    "    if match :\n",
    "        print('Valid')\n",
    "    else:\n",
    "        print('Invalid')"
   ]
  }
 ],
 "metadata": {
  "kernelspec": {
   "display_name": "Python 3",
   "language": "python",
   "name": "python3"
  },
  "language_info": {
   "codemirror_mode": {
    "name": "ipython",
    "version": 3
   },
   "file_extension": ".py",
   "mimetype": "text/x-python",
   "name": "python",
   "nbconvert_exporter": "python",
   "pygments_lexer": "ipython3",
   "version": "3.7.6"
  }
 },
 "nbformat": 4,
 "nbformat_minor": 4
}
