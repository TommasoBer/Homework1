{
 "cells": [
  {
   "cell_type": "code",
   "execution_count": null,
   "metadata": {},
   "outputs": [],
   "source": [
    "#Tuples\n",
    "\n",
    "n = int(input())\n",
    "integer_list = map(int, input().split())\n",
    "integer_list = tuple(integer_list)\n",
    "res = hash(integer_list)\n",
    "print (res)"
   ]
  },
  {
   "cell_type": "code",
   "execution_count": null,
   "metadata": {},
   "outputs": [],
   "source": [
    "#Lists\n",
    "\n",
    "N = int(input())\n",
    "    lista1=[]\n",
    "    for i in range(N):\n",
    "        x=input().split(\" \")\n",
    "        command=x[0]\n",
    "        if command=='insert':\n",
    "            lista1.insert(int(x[1]),int(x[2]))\n",
    "        if command=='remove':\n",
    "            lista1.remove(int(x[1]))\n",
    "        if command=='append':\n",
    "            lista1.append(int(x[1]))\n",
    "        if command=='sort':\n",
    "            lista1.sort()\n",
    "        if command=='reverse':\n",
    "            lista1.reverse()\n",
    "\n",
    "        if command=='pop':\n",
    "                lista1.pop()\n",
    "        if command=='print':\n",
    "            print(lista1)"
   ]
  },
  {
   "cell_type": "code",
   "execution_count": null,
   "metadata": {},
   "outputs": [],
   "source": [
    "#List Comprehensions\n",
    "\n",
    "\n",
    "    x = int(input())\n",
    "    y = int(input())\n",
    "    z = int(input())\n",
    "    n = int(input())\n",
    "    i = []\n",
    "    a=0\n",
    "    while a <= x:\n",
    "        i.append(x-a)\n",
    "        a=a+1\n",
    "    i.reverse()\n",
    "    #print(i)\n",
    "\n",
    "    j = []\n",
    "    a2=0\n",
    "    while a2 <= y:\n",
    "        j.append(y-a2)\n",
    "        a2=a2+1\n",
    "    j.reverse()\n",
    "    #print(j)\n",
    "\n",
    "    k= [] \n",
    "    a2=0\n",
    "    while a2 <= z:\n",
    "        k.append(z-a2)\n",
    "        a2=a2+1\n",
    "    k.reverse()\n",
    "\n",
    "    mix = [[i1, j1,z1] for i1 in i for j1 in j for z1 in k if (i1 + j1 +z1) != n ]\n",
    "\n",
    "    print(mix)"
   ]
  },
  {
   "cell_type": "code",
   "execution_count": 1,
   "metadata": {},
   "outputs": [],
   "source": [
    "#Nested List\n",
    "\n",
    "n=int(input())\n",
    "arr=[[input(),float(input())] for _ in range(0,n)]\n",
    "arr.sort(key=lambda x: (x[1],x[0]))\n",
    "names = [i[0] for i in arr]\n",
    "marks = [i[1] for i in arr]\n",
    "min_val=min(marks)\n",
    "while marks[0]==min_val:\n",
    "    marks.remove(marks[0])\n",
    "    names.remove(names[0])    \n",
    "for x in range(0,len(marks)):\n",
    "    if marks[x]==min(marks):\n",
    "        print(names[x])"
   ]
  },
  {
   "cell_type": "code",
   "execution_count": null,
   "metadata": {},
   "outputs": [],
   "source": [
    "#Finding the percentage\n",
    "\n",
    "n = int(input())\n",
    "student_marks = {}\n",
    "for _ in range(n):\n",
    "    name, *line = input().split()\n",
    "    scores = list(map(float, line))\n",
    "    student_marks[name] = scores\n",
    "query_name = input()\n",
    "x = student_marks[query_name]\n",
    "average = (x[0] + x[1]+ x[2])/3\n",
    "formatted_average = \"{:.2f}\".format(average)\n",
    "print (formatted_average)"
   ]
  },
  {
   "cell_type": "code",
   "execution_count": null,
   "metadata": {},
   "outputs": [],
   "source": [
    "#Find the Runner-Up Score!\n",
    "\n",
    "n = int(input())\n",
    "arr = list(map(int, input().split()))\n",
    "arr.sort()\n",
    "arr.reverse()\n",
    "\n",
    "if arr[0] == arr[1]: \n",
    "    i=0\n",
    "    while arr[i] == arr[i+1] :\n",
    "        i=i+1\n",
    "    print (arr[i+1])\n",
    "else:\n",
    "    print (arr[1])"
   ]
  }
 ],
 "metadata": {
  "kernelspec": {
   "display_name": "Python 3",
   "language": "python",
   "name": "python3"
  },
  "language_info": {
   "codemirror_mode": {
    "name": "ipython",
    "version": 3
   },
   "file_extension": ".py",
   "mimetype": "text/x-python",
   "name": "python",
   "nbconvert_exporter": "python",
   "pygments_lexer": "ipython3",
   "version": "3.7.6"
  }
 },
 "nbformat": 4,
 "nbformat_minor": 4
}
