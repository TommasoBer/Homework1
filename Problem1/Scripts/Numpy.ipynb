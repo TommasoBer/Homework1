{
 "cells": [
  {
   "cell_type": "code",
   "execution_count": null,
   "metadata": {},
   "outputs": [],
   "source": [
    "#Arrays\n",
    "\n",
    "import numpy\n",
    "\n",
    "def arrays(arr):\n",
    "    # complete this function\n",
    "    # use numpy.array\n",
    "    res = numpy.array(arr, float)\n",
    "    rev_res = res[::-1]\n",
    "    return rev_res\n",
    "\n",
    "arr = input().strip().split(' ')\n",
    "result = arrays(arr)\n",
    "print(result)"
   ]
  },
  {
   "cell_type": "code",
   "execution_count": null,
   "metadata": {},
   "outputs": [],
   "source": [
    "#Shape and Reshape\n",
    "\n",
    "import numpy as np\n",
    "num = list(map(int, input().split()))\n",
    "num = np.array(num)\n",
    "res = num.reshape(3,3)\n",
    "print (res)"
   ]
  },
  {
   "cell_type": "code",
   "execution_count": null,
   "metadata": {},
   "outputs": [],
   "source": [
    "#Transpose and Flatten\n",
    "\n",
    "import numpy as np\n",
    "m , n = map(int, input().split())\n",
    "arr = np.array([] , int)\n",
    "for i in range (0, m):\n",
    "    values_n = list(map( int, input().split()))\n",
    "    arr = np.append( arr, values_n)\n",
    "arr = arr.reshape( m , n)\n",
    "#print(arr)\n",
    "print (np.transpose(arr))\n",
    "print (arr.flatten())\n"
   ]
  },
  {
   "cell_type": "code",
   "execution_count": null,
   "metadata": {},
   "outputs": [],
   "source": [
    "# Concatenate\n",
    "\n",
    "import numpy as np\n",
    "n , m , p = map(int, input().split())\n",
    "arr = np.array([], int)\n",
    "for i in range(0 , n+m):\n",
    "    x  = list(map(int, input().split()))\n",
    "    arr = np.append(arr , x )\n",
    "arr = arr.reshape( m + n , p)\n",
    "print(arr)"
   ]
  },
  {
   "cell_type": "code",
   "execution_count": null,
   "metadata": {},
   "outputs": [],
   "source": [
    "# Zeros and Ones\n",
    "\n",
    "import numpy as np\n",
    "\n",
    "n = list(map(int, input().split()))\n",
    "x = len(n)\n",
    "\n",
    "print (np.zeros((n[0:x]), int))\n",
    "print (np.ones((n[0:x]), int))"
   ]
  },
  {
   "cell_type": "code",
   "execution_count": null,
   "metadata": {},
   "outputs": [],
   "source": [
    "# Eye and Identity\n",
    "\n",
    "\"\"\"import numpy as np\n",
    "r , c = map(int, input().split())\n",
    "print(np.eye(r, c))\"\"\"\n",
    "\n",
    "import numpy\n",
    "print(str(numpy.eye(*map(int,input().split()))).replace('1',' 1').replace('0',' 0'))\n",
    "#code up had bug because of HackerRank,  solution taken by 'discussion'\n"
   ]
  },
  {
   "cell_type": "code",
   "execution_count": null,
   "metadata": {},
   "outputs": [],
   "source": [
    "# Array Mathematics\n",
    "\n",
    "import numpy as np\n",
    "r , c = map(int, input().split())\n",
    "\n",
    "arr1 = np.array([input().split() for i in range(r)], int)\n",
    "arr2 = np.array([input().split() for i in range(r)], int)\n",
    "\n",
    "\n",
    "print  (arr1 + arr2)\n",
    "print (arr1 - arr2)\n",
    "print (arr1 * arr2) \n",
    "print (arr1 // arr2) \n",
    "print (arr1 % arr2)   \n",
    "print (arr1**arr2)\n"
   ]
  },
  {
   "cell_type": "code",
   "execution_count": null,
   "metadata": {},
   "outputs": [],
   "source": [
    "# Floor, Ceil and Rint\n",
    "\n",
    "import numpy as np\n",
    "np.set_printoptions(sign=' ')\n",
    "arr = np.array(input().split(), float)\n",
    "print (np.floor(arr))\n",
    "print (np.ceil(arr))\n",
    "print (np.rint(arr))"
   ]
  },
  {
   "cell_type": "code",
   "execution_count": null,
   "metadata": {},
   "outputs": [],
   "source": [
    "# Sum and Prod\n",
    "\n",
    "import numpy as np\n",
    "r , c = map(int, input().split())\n",
    "arr1 = np.array([input().split() for i in range(r)], int)\n",
    "x =  (np.sum(arr1, axis = 0))\n",
    "print (np.prod(x))"
   ]
  },
  {
   "cell_type": "code",
   "execution_count": null,
   "metadata": {},
   "outputs": [],
   "source": [
    "# Min and Max\n",
    "\n",
    "import numpy as np\n",
    "r , c = map(int, input().split())\n",
    "arr1 = np.array([input().split() for i in range(r)], int)\n",
    "x =  np.min(arr1, axis = 1)\n",
    "print (np.max(x))"
   ]
  },
  {
   "cell_type": "code",
   "execution_count": null,
   "metadata": {},
   "outputs": [],
   "source": [
    "# Mean, Var, and Std\n",
    "\n",
    "import numpy\n",
    "numpy.set_printoptions(sign=' ')\n",
    "numpy.set_printoptions(legacy='1.13')\n",
    "r , c = map(int, input().split())\n",
    "arr1 = numpy.array([input().split() for i in range(r)], float)\n",
    "print (numpy.mean(arr1, axis = 1))\n",
    "print (numpy.var(arr1, axis = 0))\n",
    "print  (numpy.std(arr1)) \n"
   ]
  },
  {
   "cell_type": "code",
   "execution_count": null,
   "metadata": {},
   "outputs": [],
   "source": [
    "# Dot and Cross\n",
    "\n",
    "import numpy as np\n",
    "n = int(input())\n",
    "arr1 = np.array([input().split() for i in range(n)], int)\n",
    "\n",
    "arr2 = np.array([input().split() for i in range(n)], int)\n",
    "print (np.matmul( arr1, arr2))"
   ]
  },
  {
   "cell_type": "code",
   "execution_count": null,
   "metadata": {},
   "outputs": [],
   "source": [
    "# Inner and Outer\n",
    "\n",
    "import numpy as np\n",
    "A = np.array(input().split(), int)\n",
    "B = np.array(input().split(), int)\n",
    "print (np.inner(A, B) )    \n",
    "print (np.outer(A, B) )"
   ]
  },
  {
   "cell_type": "code",
   "execution_count": null,
   "metadata": {},
   "outputs": [],
   "source": [
    "# Polynomials\n",
    "\n",
    "import numpy as np\n",
    "l1 = list(map(float, input().split()))\n",
    "print (np.polyval( l1, int(input())))\n"
   ]
  },
  {
   "cell_type": "code",
   "execution_count": null,
   "metadata": {},
   "outputs": [],
   "source": [
    "# Linear Algebra\n",
    "\n",
    "import numpy as np\n",
    "n = int(input())\n",
    "arr1 = np.array([input().split() for i in range(n)], float)\n",
    "print (np.round(np.linalg.det(arr1), 2) )"
   ]
  }
 ],
 "metadata": {
  "kernelspec": {
   "display_name": "Python 3",
   "language": "python",
   "name": "python3"
  },
  "language_info": {
   "codemirror_mode": {
    "name": "ipython",
    "version": 3
   },
   "file_extension": ".py",
   "mimetype": "text/x-python",
   "name": "python",
   "nbconvert_exporter": "python",
   "pygments_lexer": "ipython3",
   "version": "3.7.6"
  }
 },
 "nbformat": 4,
 "nbformat_minor": 4
}
