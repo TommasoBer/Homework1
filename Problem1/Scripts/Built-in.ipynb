{
 "cells": [
  {
   "cell_type": "code",
   "execution_count": null,
   "metadata": {},
   "outputs": [],
   "source": [
    "# Zipped!\n",
    "\n",
    "n_studenti , n_materie = map(int, input().split())\n",
    "studente_grad = []\n",
    "for i in range (0, n_materie):\n",
    "    voti_stud = list(map( float, input().split()))\n",
    "    studente_grad.append(voti_stud)\n",
    "    l = zip(*studente_grad)\n",
    "for i in l:\n",
    "         #l = zip(*studente_grad)\n",
    "         print(sum(i)/len(i))\n",
    "\n"
   ]
  },
  {
   "cell_type": "code",
   "execution_count": null,
   "metadata": {},
   "outputs": [],
   "source": [
    "# Athlete Sort\n",
    "\n",
    "import math\n",
    "import os\n",
    "import random\n",
    "import re\n",
    "import sys\n",
    "\n",
    "\n",
    "\n",
    "if __name__ == '__main__':\n",
    "    nm = input().split()\n",
    "\n",
    "    n = int(nm[0])\n",
    "\n",
    "    m = int(nm[1])\n",
    "\n",
    "    arr = []\n",
    "\n",
    "    for _ in range(n):\n",
    "        arr.append(list(map(int, input().rstrip().split())))\n",
    "\n",
    "    k = int(input())\n",
    "    arr.sort(key = lambda x: x[k])\n",
    "    for element in arr :\n",
    "        list_string = map(str, element)\n",
    "        element_str = \" \".join(list_string)\n",
    "        print(element_str)"
   ]
  },
  {
   "cell_type": "code",
   "execution_count": null,
   "metadata": {},
   "outputs": [],
   "source": [
    "# ginortS\n",
    "\n",
    "stringa = input()\n",
    "lista_low = []\n",
    "lista_up = []\n",
    "lista_digit = []\n",
    "lista_digit_dispari = []\n",
    "lista_pari = []\n",
    "for letter in stringa:\n",
    "    res = letter.islower()\n",
    "    res2 = letter.isupper()\n",
    "    res3 = letter.isnumeric()\n",
    "    if res == True:\n",
    "        lista_low.append(letter)\n",
    "    if res2 == True:\n",
    "        lista_up.append(letter)\n",
    "    if res3 == True:\n",
    "        lista_digit.append(letter)\n",
    "        \n",
    "lista_digit = map(int,lista_digit)\n",
    "\n",
    "lista_digit = list(lista_digit)\n",
    "sorted_low = sorted(lista_low)\n",
    "sorted_up = sorted(lista_up)\n",
    "lista_digit= sorted(lista_digit)\n",
    "for n in lista_digit:\n",
    "        if n % 2 == 1 or n == 1 :\n",
    "            lista_digit_dispari.append(n)\n",
    "        else:\n",
    "            lista_pari.append(n)\n",
    "        \n",
    "lista_digit_dispari = sorted(lista_digit_dispari)\n",
    "lista_pari = sorted(lista_pari)\n",
    "lista_finale = sorted_low + sorted_up + lista_digit_dispari  + lista_pari\n",
    "lista_finale = map(str,lista_finale)\n",
    "final = \"\".join(lista_finale)\n",
    "print(final)"
   ]
  }
 ],
 "metadata": {
  "kernelspec": {
   "display_name": "Python 3",
   "language": "python",
   "name": "python3"
  },
  "language_info": {
   "codemirror_mode": {
    "name": "ipython",
    "version": 3
   },
   "file_extension": ".py",
   "mimetype": "text/x-python",
   "name": "python",
   "nbconvert_exporter": "python",
   "pygments_lexer": "ipython3",
   "version": "3.7.6"
  }
 },
 "nbformat": 4,
 "nbformat_minor": 4
}
