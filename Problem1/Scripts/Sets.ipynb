{
 "cells": [
  {
   "cell_type": "code",
   "execution_count": null,
   "metadata": {},
   "outputs": [],
   "source": [
    "#Introduction to Sets\n",
    "\n",
    "def average(array):\n",
    "    array = set(array)\n",
    "    lunghezza = len(array)\n",
    "    somma = sum(array)\n",
    "    res = somma/lunghezza\n",
    "    return res\n",
    "    # your code goes here\n",
    "\n",
    "\n",
    "n = int(input())\n",
    "arr = list(map(int, input().split()))\n",
    "result = average(arr)\n",
    "print(result)"
   ]
  },
  {
   "cell_type": "code",
   "execution_count": null,
   "metadata": {},
   "outputs": [],
   "source": [
    "#Symmetric Difference\n",
    "\n",
    "n = int(input())\n",
    "s = input().split()\n",
    "s = set(s)\n",
    "n2 = int(input())\n",
    "s2 = input().split()\n",
    "s2 = set(s2)\n",
    "res = s2.difference(s)\n",
    "res2 = s.difference(s2)\n",
    "res.update(res2)\n",
    "res = sorted(res, key=int)\n",
    "#print(res)\n",
    "for i in res:\n",
    "    print(i)\n"
   ]
  },
  {
   "cell_type": "code",
   "execution_count": null,
   "metadata": {},
   "outputs": [],
   "source": [
    "#No Idea!\n",
    "\n",
    "#Sen, m =map(int,input().split())\n",
    "arr = list(map(int, input().split()))\n",
    "set_a = list(map(int, input().split())) \n",
    "set_b = list(map(int, input().split())) \n",
    "set_a =set(set_a)\n",
    "set_b = set(set_b)\n",
    "happiness = 0\n",
    "for element in arr :\n",
    "    x = element in set_a\n",
    "    if x == True:\n",
    "        happiness = happiness + 1\n",
    "    y = element in set_b\n",
    "    if y == True :\n",
    "        happiness = happiness -1\n",
    "print (happiness)\n"
   ]
  },
  {
   "cell_type": "code",
   "execution_count": null,
   "metadata": {},
   "outputs": [],
   "source": [
    "# Set.add()\n",
    "\n",
    "\n",
    "set_1 = ()\n",
    "set_1 =set(set_1)\n",
    "n =int(input())\n",
    "for i in range(0,n):\n",
    "    nome_paese = str(input())\n",
    "    set_1.add(nome_paese)\n",
    "l =len(set_1)\n",
    "print(l)\n"
   ]
  },
  {
   "cell_type": "code",
   "execution_count": null,
   "metadata": {},
   "outputs": [],
   "source": [
    "#Set .discard(), .remove() & .pop()\n",
    "\n",
    "n = input() #lunghezza array\n",
    "arr = list(map(int,input().split()))\n",
    "set1 = set(arr)\n",
    "#print(set1)\n",
    "N = int(input()) #questo è il numero di operazioni\n",
    "for i in range(0,N):\n",
    "    \n",
    "    com_val = list(map(str,input().split()))\n",
    "    if len(com_val) == 2:\n",
    "        comando = com_val[0]  \n",
    "        valore = com_val[1] \n",
    "        valore =int(valore)\n",
    "    else:\n",
    "        comando = com_val[0]  \n",
    "    if comando == \"remove\" :\n",
    "        set1.remove(valore)\n",
    "    if comando == \"discard\":\n",
    "        set1.discard(valore)\n",
    "    if comando == \"pop\":\n",
    "        set1.pop()\n",
    "#print(set1)\n",
    "res = sum(set1)\n",
    "print(res)\n",
    "    \n"
   ]
  },
  {
   "cell_type": "code",
   "execution_count": null,
   "metadata": {},
   "outputs": [],
   "source": [
    "#Set .union() Operation\n",
    "\n",
    "n_en = int(input()) #studenti iscritti a rivista inglese\n",
    "set_en = list(map(int, input().split()))\n",
    "set_en = set(set_en)\n",
    "n_fr = int(input()) #studenti iscritti a rivista francese\n",
    "set_fr = list(map(int, input().split()))\n",
    "set_fr = set(set_fr)\n",
    "set_tot = set_en.union(set_fr)\n",
    "tot_student = len(set_tot)\n",
    "print(tot_student)\n"
   ]
  },
  {
   "cell_type": "code",
   "execution_count": null,
   "metadata": {},
   "outputs": [],
   "source": [
    "#Set .intersection() Operation\n",
    "\n",
    "n_en = int(input()) #studenti iscritti a rivista inglese\n",
    "set_en = list(map(int, input().split()))\n",
    "set_en = set(set_en)\n",
    "n_fr = int(input()) #studenti iscritti a rivista francese\n",
    "set_fr = list(map(int, input().split()))\n",
    "set_fr = set(set_fr)\n",
    "set_tot = set_en.intersection(set_fr)\n",
    "tot_student = len(set_tot)\n",
    "print(tot_student)\n"
   ]
  },
  {
   "cell_type": "code",
   "execution_count": null,
   "metadata": {},
   "outputs": [],
   "source": [
    "#Set .difference() Operation\n",
    "\n",
    "n_en = int(input()) #studenti iscritti a rivista inglese\n",
    "set_en = list(map(int, input().split()))\n",
    "set_en = set(set_en)\n",
    "n_fr = int(input()) #studenti iscritti a rivista francese\n",
    "set_fr = list(map(int, input().split()))\n",
    "set_fr = set(set_fr)\n",
    "set_tot = set_en.difference(set_fr)\n",
    "tot_student = len(set_tot)\n",
    "print(tot_student)\n"
   ]
  },
  {
   "cell_type": "code",
   "execution_count": null,
   "metadata": {},
   "outputs": [],
   "source": [
    "#Set .symmetric_difference() Operation\n",
    "\n",
    "n_en = int(input()) #studenti iscritti a rivista inglese\n",
    "set_en = list(map(int, input().split()))\n",
    "set_en = set(set_en)\n",
    "n_fr = int(input()) #studenti iscritti a rivista francese\n",
    "set_fr = list(map(int, input().split()))\n",
    "set_fr = set(set_fr)\n",
    "set_tot = set_en.symmetric_difference(set_fr)\n",
    "tot_student = len(set_tot)\n",
    "print(tot_student)"
   ]
  },
  {
   "cell_type": "code",
   "execution_count": null,
   "metadata": {},
   "outputs": [],
   "source": [
    "#Set Mutations\n",
    "\n",
    "n = int(input()) #lunghezza set\n",
    "set_A = set(map(int, input().split()))\n",
    "n2 = int(input())\n",
    "\n",
    "for i in range(0, n2):\n",
    "    arr = list(map(str, input().split()))\n",
    "    #ampiezza_set = int(ampiezza_set)\n",
    "    if arr[0] == \"intersection_update\" :\n",
    "        set_B = set(map(int, input().split()))\n",
    "        set_A.intersection_update(set_B)\n",
    "    elif arr[0] == \"update\":\n",
    "        set_C = set(map(int, input().split()))\n",
    "        set_A.update(set_C)\n",
    "    elif arr[0] == \"symmetric_difference_update\":\n",
    "        set_D = set(map(int, input().split()))\n",
    "        set_A.symmetric_difference_update(set_D)\n",
    "    elif arr[0] ==\"difference_update\":\n",
    "        set_D = set(map(int, input().split()))\n",
    "        set_A.difference_update(set_D) \n",
    "sum_setA = sum(set_A)\n",
    "print(sum_setA)\n",
    "\n",
    "\n",
    "\n",
    "\n"
   ]
  },
  {
   "cell_type": "code",
   "execution_count": null,
   "metadata": {},
   "outputs": [],
   "source": [
    "#The Captain's room\n",
    "\n",
    "# Questo è il codice da me prodotto, funzionante. Tuttavia su Hackerrank esso non funziona in tutti i test poichè si necessita troppo tempo per processarlo.\n",
    "\n",
    " \"\"\"k = int(input()) #membri nuclei familiari\n",
    "arr = list(map(int,input().split()))\n",
    "\n",
    "a= set([x for x in arr if arr.count(x) != k])\n",
    "for i in a:\n",
    "    print(i) \"\"\"\n",
    "    \n",
    "#Questo è il codice funzionante per tutti i test trovato sul web.\n",
    "k,arr = int(input()),list(map(int, input().split()))\n",
    "myset = set(arr)\n",
    "print(((sum(myset)*k)-(sum(arr)))//(k-1))\n"
   ]
  },
  {
   "cell_type": "code",
   "execution_count": null,
   "metadata": {},
   "outputs": [],
   "source": [
    "#Check Subset\n",
    "\n",
    "N_test = int(input())\n",
    "for test in range(0, N_test) :\n",
    "    n_a = int(input())\n",
    "    set_a = set(map(int,input().split()))\n",
    "    n_b = int(input())\n",
    "    set_b = set(map(int,input().split()))\n",
    "    res = set_a.issubset(set_b)\n",
    "    print(res)\n"
   ]
  },
  {
   "cell_type": "code",
   "execution_count": null,
   "metadata": {},
   "outputs": [],
   "source": [
    "#Check Strict Superset\n",
    "\n",
    "set_a = set(map(int,input().split()))\n",
    "n_other_sets = int(input())\n",
    "\n",
    "super_a = 0\n",
    "for t in range  (0,n_other_sets):\n",
    "    o_set = set(map(int,input().split()))\n",
    "    res = set_a.issuperset(o_set)\n",
    "    if res == True :\n",
    "            super_a = super_a + 1\n",
    "    else :\n",
    "            super_a = super_a + 0\n",
    "            \n",
    "super_a = int(super_a)\n",
    "if super_a == n_other_sets :\n",
    "    print(True)\n",
    "else:\n",
    "    print(False)\n"
   ]
  }
 ],
 "metadata": {
  "kernelspec": {
   "display_name": "Python 3",
   "language": "python",
   "name": "python3"
  },
  "language_info": {
   "codemirror_mode": {
    "name": "ipython",
    "version": 3
   },
   "file_extension": ".py",
   "mimetype": "text/x-python",
   "name": "python",
   "nbconvert_exporter": "python",
   "pygments_lexer": "ipython3",
   "version": "3.7.6"
  }
 },
 "nbformat": 4,
 "nbformat_minor": 4
}
