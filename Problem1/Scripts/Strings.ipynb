{
 "cells": [
  {
   "cell_type": "code",
   "execution_count": 1,
   "metadata": {},
   "outputs": [
    {
     "name": "stdout",
     "output_type": "stream",
     "text": [
      "\n",
      "\n"
     ]
    }
   ],
   "source": [
    "#Swap Case\n",
    "\n",
    "def swap_case(s):\n",
    "    S= s.swapcase()\n",
    "    return S\n",
    "\n",
    "\n",
    "s = input()\n",
    "result = swap_case(s)\n",
    "print(result)"
   ]
  },
  {
   "cell_type": "code",
   "execution_count": null,
   "metadata": {},
   "outputs": [],
   "source": [
    "#String Split and Join\n",
    "\n",
    "def split_and_join(line):\n",
    "    line1 = line.split(\" \")\n",
    "    line2 = '-'.join(line1)\n",
    "    return line2\n",
    "\n",
    "line = input()\n",
    "result = split_and_join(line)\n",
    "print(result)"
   ]
  },
  {
   "cell_type": "code",
   "execution_count": null,
   "metadata": {},
   "outputs": [],
   "source": [
    "#What's Your Name?\n",
    "\n",
    "def print_full_name(a, b):\n",
    "    print(\"Hello \" + a +\" \" + b + \"! You just delved into python.\")\n",
    "\n",
    "\n",
    "first_name = input()\n",
    "last_name = input()\n",
    "print_full_name(first_name, last_name)"
   ]
  },
  {
   "cell_type": "code",
   "execution_count": null,
   "metadata": {},
   "outputs": [],
   "source": [
    "#Mutations\n",
    "\n",
    "def mutate_string(string, position, character):\n",
    "    string_listed = list(string)\n",
    "    string_listed[position] = character\n",
    "    string2 = \"\".join(string_listed)\n",
    "    return string2\n",
    "\n",
    "\n",
    "s = input()\n",
    "i, c = input().split()\n",
    "s_new = mutate_string(s, int(i), c)\n",
    "print(s_new)"
   ]
  },
  {
   "cell_type": "code",
   "execution_count": 2,
   "metadata": {},
   "outputs": [
    {
     "name": "stdout",
     "output_type": "stream",
     "text": [
      "\n",
      "\n",
      "1\n"
     ]
    }
   ],
   "source": [
    "#Find a String\n",
    "\n",
    "def count_substring(string, sub_string):\n",
    "    conto =0\n",
    "    flag=True\n",
    "    start=0\n",
    "    while flag:\n",
    "        a = string.find(sub_string,start)  \n",
    "        if a==-1:          \n",
    "            flag=False\n",
    "        else:               \n",
    "            conto+=1        \n",
    "            start=a+1\n",
    "    return(conto)\n",
    "        \n",
    "string = input().strip()\n",
    "sub_string = input().strip()\n",
    "    \n",
    "count = count_substring(string, sub_string)\n",
    "print(count)"
   ]
  },
  {
   "cell_type": "code",
   "execution_count": null,
   "metadata": {},
   "outputs": [],
   "source": [
    "#String Validators\n",
    "\n",
    "s = input()\n",
    "if any(letter.isalnum() for letter in s):\n",
    "        print(\"True\")\n",
    "else:\n",
    "        print(\"False\")\n",
    "if any(letter.isalpha() for letter in s):\n",
    "        print(\"True\")\n",
    "else:\n",
    "        print(\"False\")\n",
    "if any(letter.isdigit() for letter in s):\n",
    "        print(\"True\")\n",
    "else:\n",
    "        print(\"False\")\n",
    "if any(letter.islower() for letter in s):\n",
    "        print(\"True\")\n",
    "else:\n",
    "        print(\"False\")\n",
    "if any(letter.isupper() for letter in s):\n",
    "        print(\"True\")\n",
    "else:\n",
    "        print(\"False\")\n"
   ]
  },
  {
   "cell_type": "code",
   "execution_count": null,
   "metadata": {},
   "outputs": [],
   "source": [
    "#Text Allignment\n",
    "\n",
    "#Replace all ______ with rjust, ljust or center. \n",
    "\n",
    "thickness = int(input()) #This must be an odd number\n",
    "c = 'H'\n",
    "\n",
    "#Top Cone\n",
    "for i in range(thickness):\n",
    "    print((c*i).rjust(thickness-1)+c+(c*i).ljust(thickness-1))\n",
    "\n",
    "#Top Pillars\n",
    "for i in range(thickness+1):\n",
    "    print((c*thickness).center(thickness*2)+(c*thickness).center(thickness*6))\n",
    "\n",
    "#Middle Belt\n",
    "for i in range((thickness+1)//2):\n",
    "    print((c*thickness*5).center(thickness*6))    \n",
    "\n",
    "#Bottom Pillars\n",
    "for i in range(thickness+1):\n",
    "    print((c*thickness).center(thickness*2)+(c*thickness).center(thickness*6))    \n",
    "\n",
    "#Bottom Cone\n",
    "for i in range(thickness):\n",
    "    print(((c*(thickness-i-1)).rjust(thickness)+c+(c*(thickness-i-1)).ljust(thickness)).rjust(thickness*6))"
   ]
  },
  {
   "cell_type": "code",
   "execution_count": null,
   "metadata": {},
   "outputs": [],
   "source": [
    "#Text Wrap\n",
    "\n",
    "import textwrap\n",
    "\n",
    "def wrap(string, max_width):\n",
    "     \n",
    "    res = (textwrap.fill(string, max_width))\n",
    "    return res\n",
    "\n",
    "\n",
    "string, max_width = input(), int(input())\n",
    "result = wrap(string, max_width)\n",
    "print(result)"
   ]
  },
  {
   "cell_type": "code",
   "execution_count": 4,
   "metadata": {},
   "outputs": [
    {
     "name": "stdout",
     "output_type": "stream",
     "text": [
      "3\n",
      " 1  1  1  1\n",
      " 2  2  2 10\n",
      " 3  3  3 11\n"
     ]
    }
   ],
   "source": [
    "#String Formatting\n",
    "\n",
    "def print_formatted(number):\n",
    "    width=len(bin(number)[2:])\n",
    "    for i in range (1,number+1):\n",
    "       \n",
    "         n_oct = oct(i)[2:]\n",
    "         n_oct = str(n_oct)\n",
    "         n_hex = hex(i)[2:]\n",
    "         n_hex = str(n_hex)\n",
    "         n_bin = bin(i)[2:]\n",
    "         n_bin = str(n_bin)\n",
    "         i=str(i)\n",
    "         print(i.rjust(width),n_oct.rjust(width),n_hex.rjust(width).upper(),n_bin.rjust(width))\n",
    "\n",
    "n = int(input())\n",
    "print_formatted(n)"
   ]
  },
  {
   "cell_type": "code",
   "execution_count": 5,
   "metadata": {},
   "outputs": [],
   "source": [
    "#The Minions Game\n",
    "\n",
    "def minion_game(string):\n",
    "    vocali = \"AEIOU\"\n",
    "    vocali_1 =\"aeiou\"\n",
    "    score_Stuart = 0\n",
    "    score_Kevin = 0\n",
    "    for i in range(0,len(s)):\n",
    "        if s[i] in vocali or s[i] in vocali_1 :\n",
    "            score_Kevin = score_Kevin + (len(s) -i)\n",
    "        else:\n",
    "            score_Stuart = score_Stuart + (len(s)-i)\n",
    "    \n",
    "    if score_Stuart > score_Kevin :\n",
    "        print (\"Stuart\", score_Stuart)\n",
    "    elif score_Stuart < score_Kevin:\n",
    "        print(\"Kevin\", score_Kevin)\n",
    "    else:\n",
    "        print(\"Draw\")\n",
    "    # your code goes here\n",
    "\n",
    "\n",
    "s = input()\n",
    "minion_game(s)"
   ]
  },
  {
   "cell_type": "code",
   "execution_count": null,
   "metadata": {},
   "outputs": [
    {
     "name": "stdout",
     "output_type": "stream",
     "text": [
      "\n"
     ]
    }
   ],
   "source": [
    "#Merge the Tools\n",
    "\n",
    "import textwrap\n",
    "import math\n",
    "def merge_the_tools(string, k):\n",
    "    \n",
    "    s_lenght = len(string)\n",
    "    t = math.ceil(s_lenght/k)\n",
    "    res = ((textwrap.fill(string,k)))\n",
    "    res=res.split(\"\\n\")\n",
    "    #print(res)\n",
    "    for i in range(0,t):\n",
    "        a = res[i]\n",
    "        a1 = list(a)\n",
    "        a1_ok = list(dict.fromkeys(a1)) \n",
    "        a2 = \"\".join(a1_ok)  \n",
    "        print(a2)\n",
    "        \n",
    "\n",
    "string, k = input(), int(input())\n",
    "merge_the_tools(string, k)"
   ]
  },
  {
   "cell_type": "code",
   "execution_count": null,
   "metadata": {},
   "outputs": [],
   "source": [
    "#Word Scores\n",
    "\n",
    "def score_words(words):\n",
    "    score = 0\n",
    "    vocali = \"aeiouy\"\n",
    "    for word in words:\n",
    "        num_vowels = 0\n",
    "        for letter in word:\n",
    "            if letter in vocali:\n",
    "                num_vowels += 1\n",
    "        if num_vowels % 2 == 0:\n",
    "            score += 2\n",
    "        else:\n",
    "            score = score+1\n",
    "    return score\n",
    "\n",
    "\n",
    "n = int(input())\n",
    "words = input().split()\n",
    "print(score_words(words))"
   ]
  },
  {
   "cell_type": "code",
   "execution_count": null,
   "metadata": {},
   "outputs": [],
   "source": [
    "def solve(s):\n",
    "    #s = ' '.join(word[0].upper() + word[1:] for word in s.split())\n",
    "    for word in s.split():\n",
    "        s = s.replace(word, word.capitalize())\n",
    "    return s\n",
    "\n",
    "\n",
    "fptr = open(os.environ['OUTPUT_PATH'], 'w')\n",
    "s = input()\n",
    "result = solve(s)\n",
    "fptr.write(result + '\\n')\n",
    "fptr.close()"
   ]
  },
  {
   "cell_type": "code",
   "execution_count": null,
   "metadata": {},
   "outputs": [],
   "source": [
    "#Missing exercises: \"Designer Door Mat\" and \"Alphabet Rangoli\""
   ]
  }
 ],
 "metadata": {
  "kernelspec": {
   "display_name": "Python 3",
   "language": "python",
   "name": "python3"
  },
  "language_info": {
   "codemirror_mode": {
    "name": "ipython",
    "version": 3
   },
   "file_extension": ".py",
   "mimetype": "text/x-python",
   "name": "python",
   "nbconvert_exporter": "python",
   "pygments_lexer": "ipython3",
   "version": "3.7.6"
  }
 },
 "nbformat": 4,
 "nbformat_minor": 4
}
