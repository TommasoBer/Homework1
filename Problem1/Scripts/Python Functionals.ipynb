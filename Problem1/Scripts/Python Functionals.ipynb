{
 "cells": [
  {
   "cell_type": "code",
   "execution_count": null,
   "metadata": {},
   "outputs": [],
   "source": [
    "# Map and Lambda Function\n",
    "\n",
    "cube = lambda x: x*x*x\n",
    "# complete the lambda function \n",
    "\n",
    "def fibonacci(n):\n",
    "    if n == 0:\n",
    "        l = []\n",
    "        return l\n",
    "    # return a list of fibonacci numbers\n",
    "    if n==2:\n",
    "        l = [0,1] \n",
    "        return l\n",
    "    # Second Fibonacci number is 1 \n",
    "    elif n==1: \n",
    "        l = [0]\n",
    "        return l\n",
    "    else: \n",
    "        fibonacci_numbers = [0, 1]\n",
    "        for i in range(2,n):\n",
    "            fibonacci_numbers.append(fibonacci_numbers[i-1]+fibonacci_numbers[i-2])\n",
    "        return fibonacci_numbers\n",
    "\n",
    "if __name__ == '__main__':\n",
    "    n = int(input())\n",
    "    print(list(map(cube, fibonacci(n))))"
   ]
  }
 ],
 "metadata": {
  "kernelspec": {
   "display_name": "Python 3",
   "language": "python",
   "name": "python3"
  },
  "language_info": {
   "codemirror_mode": {
    "name": "ipython",
    "version": 3
   },
   "file_extension": ".py",
   "mimetype": "text/x-python",
   "name": "python",
   "nbconvert_exporter": "python",
   "pygments_lexer": "ipython3",
   "version": "3.7.6"
  }
 },
 "nbformat": 4,
 "nbformat_minor": 4
}
