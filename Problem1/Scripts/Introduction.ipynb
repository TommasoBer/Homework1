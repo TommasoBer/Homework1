{
 "cells": [
  {
   "cell_type": "code",
   "execution_count": 5,
   "metadata": {},
   "outputs": [
    {
     "name": "stdout",
     "output_type": "stream",
     "text": [
      "Hello, World!\n"
     ]
    }
   ],
   "source": [
    "print(\"Hello, World!\")   # 1. Hello World"
   ]
  },
  {
   "cell_type": "code",
   "execution_count": 4,
   "metadata": {},
   "outputs": [
    {
     "name": "stdout",
     "output_type": "stream",
     "text": [
      "100\n",
      "Not Weird\n"
     ]
    }
   ],
   "source": [
    "#2. Python if-else\n",
    "\n",
    "\n",
    "import math\n",
    "import os\n",
    "import random\n",
    "import re\n",
    "import sys\n",
    "\n",
    "\n",
    "\n",
    "if __name__ == '__main__':\n",
    "    n = int(input().strip())\n",
    "\n",
    "    if n == 2 or n== 4:\n",
    "        print('Not Weird')\n",
    "    else :\n",
    "     if n== 6 or n==8 or n==10 or n==12 or n==14 or n==16 or n ==18 or n==20 :\n",
    "        print('Weird')\n",
    "     else:\n",
    "      if n % 2 == 0 and n>20 :\n",
    "       print (\"Not Weird\")                #pari\n",
    "      else:\n",
    "       print (\"Weird\")                    #dispari"
   ]
  },
  {
   "cell_type": "code",
   "execution_count": 6,
   "metadata": {},
   "outputs": [
    {
     "name": "stdout",
     "output_type": "stream",
     "text": [
      "1\n",
      "3\n",
      "4\n",
      "-2\n",
      "3\n"
     ]
    }
   ],
   "source": [
    "#3. Arithmetic Operators\n",
    "\n",
    "if __name__ == '__main__':\n",
    "    a = int(input())\n",
    "    b = int(input())\n",
    "    sum = a+b\n",
    "    dif = a-b\n",
    "    prod = a*b\n",
    "    print(sum)\n",
    "    print(dif)\n",
    "    print(prod)"
   ]
  },
  {
   "cell_type": "code",
   "execution_count": 7,
   "metadata": {},
   "outputs": [
    {
     "name": "stdout",
     "output_type": "stream",
     "text": [
      "10\n",
      "3\n",
      "3\n",
      "3.3333333333333335\n"
     ]
    }
   ],
   "source": [
    "#4. Python:Division\n",
    "\n",
    "if __name__ == '__main__':\n",
    "    a = int(input())\n",
    "    b = int(input())\n",
    "    res1= a//b\n",
    "    res2= a/b\n",
    "    print(res1)\n",
    "    print(res2)"
   ]
  },
  {
   "cell_type": "code",
   "execution_count": 8,
   "metadata": {},
   "outputs": [
    {
     "name": "stdout",
     "output_type": "stream",
     "text": [
      "4\n",
      "0\n",
      "1\n",
      "4\n",
      "9\n"
     ]
    }
   ],
   "source": [
    "#5. Loops\n",
    "\n",
    "if __name__ == '__main__':\n",
    "    n = int(input())\n",
    "    if n > 20:\n",
    "        print (\"Inserire un numero minore o uguale di 20\")\n",
    "        n = int(input())\n",
    "    else:\n",
    "        k=n\n",
    "        while k != 0 : \n",
    "         i = n-k\n",
    "         r= i*i\n",
    "         print(r)\n",
    "         k=k-1"
   ]
  },
  {
   "cell_type": "code",
   "execution_count": 9,
   "metadata": {},
   "outputs": [
    {
     "name": "stdout",
     "output_type": "stream",
     "text": [
      "1600\n",
      "True\n"
     ]
    }
   ],
   "source": [
    "#6.Write a function\n",
    "\n",
    "\n",
    "def is_leap(year):\n",
    "    leap = False                     #non è bisestile\n",
    "    if year % 400 == 0:\n",
    "     leap = True\n",
    "     return leap\n",
    "    else:\n",
    "     if year % 100 == 0 :\n",
    "        return leap\n",
    "     else:\n",
    "      if year % 4 == 0 :\n",
    "        leap = True\n",
    "        return leap\n",
    "      else:\n",
    "        return leap\n",
    "    \n",
    "    # Write your logic here\n",
    "anno = int(input())\n",
    "risultato = is_leap(anno)\n",
    "print(risultato)"
   ]
  },
  {
   "cell_type": "code",
   "execution_count": 10,
   "metadata": {},
   "outputs": [
    {
     "name": "stdout",
     "output_type": "stream",
     "text": [
      "5\n",
      "12345"
     ]
    }
   ],
   "source": [
    "#7. Print a function\n",
    "\n",
    "if __name__ == '__main__':\n",
    "    n = int(input())\n",
    "    for x in range(1,n+1):\n",
    "     print(x, end=\"\")"
   ]
  },
  {
   "cell_type": "code",
   "execution_count": null,
   "metadata": {},
   "outputs": [],
   "source": []
  }
 ],
 "metadata": {
  "kernelspec": {
   "display_name": "Python 3",
   "language": "python",
   "name": "python3"
  },
  "language_info": {
   "codemirror_mode": {
    "name": "ipython",
    "version": 3
   },
   "file_extension": ".py",
   "mimetype": "text/x-python",
   "name": "python",
   "nbconvert_exporter": "python",
   "pygments_lexer": "ipython3",
   "version": "3.7.6"
  }
 },
 "nbformat": 4,
 "nbformat_minor": 4
}
