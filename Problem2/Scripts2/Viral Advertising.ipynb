{
 "cells": [
  {
   "cell_type": "code",
   "execution_count": 3,
   "metadata": {},
   "outputs": [
    {
     "name": "stdout",
     "output_type": "stream",
     "text": [
      "3\n",
      "9\n"
     ]
    }
   ],
   "source": [
    "#Viral Advertising\n",
    "\n",
    "import math\n",
    "import os\n",
    "import random\n",
    "import re\n",
    "import sys\n",
    "\n",
    "# Complete the viralAdvertising function below.\n",
    "def viralAdvertising(n):\n",
    "    adv = 5\n",
    "    tot_like = 2\n",
    "    like = 2\n",
    "    for i in range(1, n):\n",
    "        new_adv = like * 3\n",
    "        new_like = new_adv // 2\n",
    "        like = new_like\n",
    "        tot_like = tot_like + new_like\n",
    "        \n",
    "    return tot_like\n",
    "\n",
    "\n",
    "n = int(input())\n",
    "res = viralAdvertising(n)\n",
    "print(res)\n",
    "\n"
   ]
  },
  {
   "cell_type": "code",
   "execution_count": null,
   "metadata": {},
   "outputs": [],
   "source": []
  }
 ],
 "metadata": {
  "kernelspec": {
   "display_name": "Python 3",
   "language": "python",
   "name": "python3"
  },
  "language_info": {
   "codemirror_mode": {
    "name": "ipython",
    "version": 3
   },
   "file_extension": ".py",
   "mimetype": "text/x-python",
   "name": "python",
   "nbconvert_exporter": "python",
   "pygments_lexer": "ipython3",
   "version": "3.7.6"
  }
 },
 "nbformat": 4,
 "nbformat_minor": 4
}
