{
 "cells": [
  {
   "cell_type": "code",
   "execution_count": 26,
   "metadata": {},
   "outputs": [
    {
     "name": "stdout",
     "output_type": "stream",
     "text": [
      "545454 1\n",
      "9\n"
     ]
    }
   ],
   "source": [
    "#Recursive Digit Sum\n",
    "\n",
    "def superDigit(n, k):\n",
    "        a = list(n)\n",
    "        while len(a) != 1 :\n",
    "            a = [int(e) for e in a]\n",
    "            a = sum(a)\n",
    "            a = str(a)\n",
    "            \n",
    "            a = list(a)\n",
    "        a = \"\".join(a)\n",
    "        a = int(a)\n",
    "        a = a * k\n",
    "        a =str(a)\n",
    "        a = list(a)\n",
    "        while len(a) != 1 :\n",
    "            a = [int(e) for e in a]\n",
    "            a = sum(a)\n",
    "            a = str(a)\n",
    "            \n",
    "            a = list(a)\n",
    "        a = \"\".join(a)\n",
    "        \n",
    "        return a\n",
    "\n",
    "nk = input().split()\n",
    "n = nk[0]\n",
    "k = int(nk[1])\n",
    "result = superDigit(n, k)\n",
    "result = int(result)\n",
    "print(result)\n",
    "\n",
    "   \n"
   ]
  },
  {
   "cell_type": "code",
   "execution_count": null,
   "metadata": {},
   "outputs": [],
   "source": []
  }
 ],
 "metadata": {
  "kernelspec": {
   "display_name": "Python 3",
   "language": "python",
   "name": "python3"
  },
  "language_info": {
   "codemirror_mode": {
    "name": "ipython",
    "version": 3
   },
   "file_extension": ".py",
   "mimetype": "text/x-python",
   "name": "python",
   "nbconvert_exporter": "python",
   "pygments_lexer": "ipython3",
   "version": "3.7.6"
  }
 },
 "nbformat": 4,
 "nbformat_minor": 4
}
