{
 "cells": [
  {
   "cell_type": "code",
   "execution_count": 13,
   "metadata": {},
   "outputs": [
    {
     "name": "stdout",
     "output_type": "stream",
     "text": [
      "5\n",
      "2 4 6 8 3\n",
      "2 4 6 8 8\n",
      "2 4 6 6 8\n",
      "2 4 4 6 8\n",
      "2 3 4 6 8\n"
     ]
    }
   ],
   "source": [
    "#Insertion Sort 1\n",
    "\n",
    "def insertionSort1(n, arr):\n",
    "    a = arr[-1]\n",
    "    b = sorted(arr)\n",
    "    if a < arr[0]:\n",
    "        for i in range (0 , n-1 ) :\n",
    "            if a < arr[-1 -(1 + i)] :\n",
    "                arr[-1 -i] = arr[-1 -(1 + i)]\n",
    "                print(' '.join(str(x) for x in arr))\n",
    "            else:\n",
    "                arr[-1-i] = a\n",
    "                print(' '.join(str(x) for x in arr))\n",
    "                break\n",
    "\n",
    "        print(' '.join(str(x) for x in b))\n",
    "    else :\n",
    "        for i in range (0 , n-1 ) :\n",
    "            if a < arr[-1 -(1 + i)] :\n",
    "                arr[-1 -i] = arr[-1 -(1 + i)]\n",
    "                print(' '.join(str(x) for x in arr))\n",
    "            else:\n",
    "                arr[-1-i] = a\n",
    "                print(' '.join(str(x) for x in arr))\n",
    "                break\n",
    "            \n",
    "            #print(arr)\n",
    "            #break\n",
    "            \n",
    "            \n",
    "n = int(input())\n",
    "arr = list(map(int, input().rstrip().split()))\n",
    "insertionSort1(n, arr)"
   ]
  },
  {
   "cell_type": "code",
   "execution_count": null,
   "metadata": {},
   "outputs": [],
   "source": []
  },
  {
   "cell_type": "code",
   "execution_count": null,
   "metadata": {},
   "outputs": [],
   "source": []
  }
 ],
 "metadata": {
  "kernelspec": {
   "display_name": "Python 3",
   "language": "python",
   "name": "python3"
  },
  "language_info": {
   "codemirror_mode": {
    "name": "ipython",
    "version": 3
   },
   "file_extension": ".py",
   "mimetype": "text/x-python",
   "name": "python",
   "nbconvert_exporter": "python",
   "pygments_lexer": "ipython3",
   "version": "3.7.6"
  }
 },
 "nbformat": 4,
 "nbformat_minor": 4
}
